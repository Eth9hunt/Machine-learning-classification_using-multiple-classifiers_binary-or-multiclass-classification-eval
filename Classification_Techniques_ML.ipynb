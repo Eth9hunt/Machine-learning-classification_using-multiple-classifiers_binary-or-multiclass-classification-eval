{
  "nbformat": 4,
  "nbformat_minor": 0,
  "metadata": {
    "colab": {
      "provenance": []
    },
    "kernelspec": {
      "name": "python3",
      "display_name": "Python 3"
    },
    "language_info": {
      "name": "python"
    }
  },
  "cells": [
    {
      "cell_type": "code",
      "source": [
        "# this script can generate results for your data by\n",
        "# applying classification algorithm based on 14 different classifiers given below.\n",
        "\n",
        "# 1. LogisticRegression\n",
        "# 2. DecisionTreeClassifier\n",
        "# 3. RandomForestClassifier\n",
        "# 4. ExtraTreesClassifier\n",
        "# 5. AdaBoostClassifier\n",
        "# 6. GradientBoostingClassifier\n",
        "# 7. SVC()\n",
        "# 8. KNeighborsClassifier\n",
        "# 9. GaussianNB\n",
        "# 10. BernoulliNB\n",
        "# 11. LinearDiscriminantAnalysis\n",
        "# 12. QuadraticDiscriminantAnalysis\n",
        "# 13. MLPClassifier\n",
        "# 14. LGBMClassifier"
      ],
      "metadata": {
        "id": "FiHFrrR_JUuM"
      },
      "execution_count": null,
      "outputs": []
    },
    {
      "cell_type": "code",
      "execution_count": 1,
      "metadata": {
        "id": "Wqt9lXkmG6vO"
      },
      "outputs": [],
      "source": [
        "# import important libraries\n",
        "from sklearn.model_selection import train_test_split\n",
        "from sklearn.datasets import load_breast_cancer\n",
        "from sklearn.linear_model import LogisticRegression\n",
        "from sklearn.tree import DecisionTreeClassifier\n",
        "from sklearn.ensemble import RandomForestClassifier, ExtraTreesClassifier, AdaBoostClassifier, GradientBoostingClassifier\n",
        "from sklearn.svm import SVC\n",
        "from sklearn.neighbors import KNeighborsClassifier\n",
        "from sklearn.naive_bayes import GaussianNB, BernoulliNB\n",
        "from sklearn.discriminant_analysis import LinearDiscriminantAnalysis, QuadraticDiscriminantAnalysis\n",
        "from sklearn.neural_network import MLPClassifier\n",
        "\n",
        "from sklearn.ensemble import RandomForestClassifier\n",
        "from sklearn.metrics import accuracy_score, precision_score, recall_score, f1_score, roc_auc_score, roc_curve\n",
        "from sklearn.model_selection import train_test_split\n",
        "\n",
        "from lightgbm import LGBMClassifier\n",
        "\n",
        "from sklearn.metrics import multilabel_confusion_matrix\n",
        "\n",
        "import pandas as pd\n",
        "\n",
        "import numpy as np"
      ]
    },
    {
      "cell_type": "code",
      "source": [
        "\n",
        "# Define classifiers\n",
        "classifiers = [\n",
        "    LogisticRegression(solver='lbfgs',max_iter=1000),\n",
        "    DecisionTreeClassifier(),\n",
        "    RandomForestClassifier(),\n",
        "    ExtraTreesClassifier(),\n",
        "    AdaBoostClassifier(),\n",
        "    GradientBoostingClassifier(),\n",
        "    SVC(),\n",
        "    KNeighborsClassifier(),\n",
        "    GaussianNB(),\n",
        "    BernoulliNB(),\n",
        "    LinearDiscriminantAnalysis(),\n",
        "    QuadraticDiscriminantAnalysis(),\n",
        "    MLPClassifier(),\n",
        "\n",
        "    LGBMClassifier(),\n",
        "\n",
        "]"
      ],
      "metadata": {
        "id": "2t2X3i7bHLDB"
      },
      "execution_count": null,
      "outputs": []
    },
    {
      "cell_type": "code",
      "source": [
        "# Split data into train and test sets (x_d, y_d are the varibales, where x_d storesinput\n",
        "# samples and y_d stores input labels. the size of x_d can be (m,n), where m is the number of samples and n are the number of features, whereas size of y_d can be (m,) where m is the numberr of samples.\n",
        "X_train, X_test, y_train, y_test = train_test_split(x_d, y_d, test_size=0.4, random_state=2)\n"
      ],
      "metadata": {
        "id": "8mZPfE48HNIG"
      },
      "execution_count": null,
      "outputs": []
    },
    {
      "cell_type": "code",
      "source": [
        " # list of classifiers, sequentially arranges in a list to represernt table during the analysis of evaluation metrics. \n",
        " clfr=['LogisticRegression', 'DecisionTreeClassifier','RandomForestClassifier','ExtraTreesClassifier','AdaBoostClassifier','GradientBoostingClassifier','SVC()',\n",
        " 'KNeighborsClassifier','GaussianNB','BernoulliNB','LinearDiscriminantAnalysis','QuadraticDiscriminantAnalysis','MLPClassifier','LGBMClassifier']"
      ],
      "metadata": {
        "id": "F6DUXlaNITQy"
      },
      "execution_count": 2,
      "outputs": []
    },
    {
      "cell_type": "code",
      "source": [
        "for i in range (len(clfr)):\n",
        "  print(clfr[i])"
      ],
      "metadata": {
        "colab": {
          "base_uri": "https://localhost:8080/"
        },
        "id": "2ZjE1GCPJeII",
        "outputId": "aa1563b0-faa8-4197-aeba-c515fc46a336"
      },
      "execution_count": 3,
      "outputs": [
        {
          "output_type": "stream",
          "name": "stdout",
          "text": [
            "LogisticRegression\n",
            "DecisionTreeClassifier\n",
            "RandomForestClassifier\n",
            "ExtraTreesClassifier\n",
            "AdaBoostClassifier\n",
            "GradientBoostingClassifier\n",
            "SVC()\n",
            "KNeighborsClassifier\n",
            "GaussianNB\n",
            "BernoulliNB\n",
            "LinearDiscriminantAnalysis\n",
            "QuadraticDiscriminantAnalysis\n",
            "MLPClassifier\n",
            "LGBMClassifier\n"
          ]
        }
      ]
    },
    {
      "cell_type": "code",
      "source": [
        "# apply classifiers\n",
        "\n",
        "acc=[]\n",
        "prc=[]\n",
        "f1s=[]\n",
        "rec=[]\n",
        "spec=[]\n",
        "\n",
        "# Train and evaluate classifiers\n",
        "results=[]\n",
        "for i in tqdm(range(len(classifiers))):\n",
        "    print(f'Training {classifiers[i].__class__.__name__}...')\n",
        "\n",
        "    # train_score = classifier.score(X_train, y_train)\n",
        "    # test_score = classifier.score(X_test, y_test)\n",
        "\n",
        "    clf=classifiers[i]\n",
        "    clf.fit(X_train, y_train)\n",
        "    y_pred=clf.predict(X_test)\n",
        "\n",
        "    accuracy = accuracy_score(y_test, y_pred)\n",
        "    precision = precision_score(y_test, y_pred, average='weighted')\n",
        "    recall = recall_score(y_test, y_pred, average='weighted')\n",
        "    f1 = f1_score(y_test, y_pred, average='weighted')\n",
        "    #auc = roc_auc_score(y_test, y_pred)\n",
        "    acc.append(accuracy)\n",
        "    prc.append(precision)\n",
        "    f1s.append(f1)\n",
        "    rec.append(recall)\n",
        "    \n",
        "    # assuming y_true and y_pred are the true and predicted labels respectively\n",
        "    cm = multilabel_confusion_matrix(y_test, y_pred)\n",
        "\n",
        "    \n",
        "    specificity = []   \n",
        "    for i in range(len(cm)):\n",
        "        tn = cm[i][0][0]\n",
        "        fp = cm[i][0][1]\n",
        "        specificity.append(tn / (tn + fp))\n",
        "        \n",
        "    sp=np.mean(specificity)\n",
        "    spec.append(sp)\n"
      ],
      "metadata": {
        "id": "hjj_wJr3IuqS"
      },
      "execution_count": null,
      "outputs": []
    },
    {
      "cell_type": "code",
      "source": [
        "\n",
        "df = pd.DataFrame({'Specificity':spec, 'Accuracy': acc, 'Precision': prc, 'F1-Score': f1s, 'Recall':rec}, index=clfr)\n",
        "\n",
        "# df.to_csv('/content/drive/MyDrive/17052023 Classifiers performance/classifiers_performance_metrics.csv')\n",
        "\n",
        "df"
      ],
      "metadata": {
        "id": "cA_RziUbJDF_"
      },
      "execution_count": null,
      "outputs": []
    }
  ]
}